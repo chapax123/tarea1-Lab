{
 "cells": [
  {
   "cell_type": "markdown",
   "metadata": {},
   "source": [
    "# MA6202: Laboratorio de Ciencia de Datos\n",
    "\n",
    "**Profesor: Nicolás Caro**\\\n",
    "**Auxiliar: Rodrigo Lara M**\n",
    "\n",
    "**17/05/2020 - Tarea 1**\n",
    "\n",
    "\n",
    "**Integrantes del grupo**: Pablo Araya Z., Fabian Badilla M."
   ]
  },
  {
   "cell_type": "markdown",
   "metadata": {},
   "source": [
    "## 1 Introducción\n",
    "La siguiente evaluación corresponde a la primera tarea del curso de laboratorio de ciencia de datos. A modo de contexto, se trabajará con un conjunto de datos, en el cual se busca una estimación del precio por metro cuadrado para viviendas en la ciudad de Bogotá, se busca además de una estimación de incertidumbre en predicción.\\\n",
    "Para ello, se proporcionan datos recolectados por _web-scrapping_ y una serie de estadísticas que caracterizan determinadas zonas geográficas de interés, llamadas Unidades de Planeación Zonal (UPZ).\n",
    "\n",
    "Las condiciones de entrega requeridas son:\n",
    "\n",
    "* La extensión máxima de el informe es de 6 planas a las que puede añadir 2 para demostraciones.\n",
    "* Debe adjuntar un repositorio `git` donde se incluya todo su código.\n",
    "* A lo menos 1 `commit` por cada pregunta de la tarea\n",
    "* Por lo menos 1 `merge` a través de su trabajo.\n",
    "* Incluya un documento `jupyter notebook` llamado `tarea1.ipynb` en el cual se exponga todo el procedimiento realizado.\n",
    "* Por último es necesario también entregar un archivo _pickle_ denominado `modelo.pk` que contenga el último modelo de regresión entrenado.\n",
    "\n",
    "Tenga en mente que su informe será revisado por un equipo técnico que debe entender a cabalidad su metodología, ser capaz de replicarlo y evaluarlo a partir de la lectura de este."
   ]
  },
  {
   "cell_type": "markdown",
   "metadata": {},
   "source": [
    "## Imports"
   ]
  },
  {
   "cell_type": "code",
   "execution_count": 2,
   "metadata": {},
   "outputs": [],
   "source": [
    "import pandas as pd\n",
    "import matplotlib.pyplot as plt\n",
    "import seaborn as sns\n",
    "import numpy as np\n",
    "import os, sys"
   ]
  },
  {
   "cell_type": "markdown",
   "metadata": {},
   "source": [
    "## P1. Carga y limpieza de datos\n",
    "En la presente sección se realizan los pasos de carga y limpieza de datos que permitirán realizar las secciones\n",
    "posteriores con un `DataFrame` consolidado que presente los tipos de datos adecuados para la información contenida\n",
    "en sus columnas.\\\n",
    "Incluya en el reporte todas las decisiones que llevó en esta secci\u0013on, adem\u0013as de reportar y discutir acerca de\n",
    "los aspectos específicos señalados en cada pregunta.\n",
    "\n",
    "1. Los datos recolectados en la carpeta `data/raw` están divididos en carpetas con el formato `wNN` donde `NN` corresponde a la semana del año en la que estos fueron consultados. Cargue los datos en un solo `DataFrame` y elimine las filas duplicadas. Además genere una variable categórica en la que se indique si la observación correspondiente proviene de un archivo que en su nombre contiene `'furnished'`\\\n",
    "(ejemplo: metrocuadrado_furnished_wNN.csv).\\\n",
    "**Hint:** para lo último puede ser útil estudiar los argumentos del\n",
    "método `pd.merge`. Reporte si existen observaciones de archivos con texto `'furnished'` que no estén contenidos en archivos con texto `'all'`."
   ]
  },
  {
   "cell_type": "code",
   "execution_count": 4,
   "metadata": {},
   "outputs": [
    {
     "data": {
      "text/html": [
       "<div>\n",
       "<style scoped>\n",
       "    .dataframe tbody tr th:only-of-type {\n",
       "        vertical-align: middle;\n",
       "    }\n",
       "\n",
       "    .dataframe tbody tr th {\n",
       "        vertical-align: top;\n",
       "    }\n",
       "\n",
       "    .dataframe thead th {\n",
       "        text-align: right;\n",
       "    }\n",
       "</style>\n",
       "<table border=\"1\" class=\"dataframe\">\n",
       "  <thead>\n",
       "    <tr style=\"text-align: right;\">\n",
       "      <th></th>\n",
       "      <th>property_type|rent_type|location</th>\n",
       "      <th>price</th>\n",
       "      <th>n_rooms</th>\n",
       "      <th>n_bath</th>\n",
       "      <th>surface</th>\n",
       "      <th>details</th>\n",
       "      <th>url</th>\n",
       "      <th>metrocuadrado_index</th>\n",
       "      <th>Archivo</th>\n",
       "    </tr>\n",
       "  </thead>\n",
       "  <tbody>\n",
       "    <tr>\n",
       "      <th>0</th>\n",
       "      <td>Casa en Arriendo, LA SOLEDAD NORTE Bogotá D.C..</td>\n",
       "      <td>$1.050.000</td>\n",
       "      <td>3</td>\n",
       "      <td>2</td>\n",
       "      <td>63.0 m2</td>\n",
       "      <td>Excelente casa cerca de la calle 80 y Avenida ...</td>\n",
       "      <td>https://www.metrocuadrado.com/inmueble/arriend...</td>\n",
       "      <td>25.6</td>\n",
       "      <td>all</td>\n",
       "    </tr>\n",
       "    <tr>\n",
       "      <th>1</th>\n",
       "      <td>Casa en Arriendo, CIUDAD SALITRE SUR-ORIENTAL ...</td>\n",
       "      <td>$3.930.000</td>\n",
       "      <td>3</td>\n",
       "      <td>2</td>\n",
       "      <td>100.0 m2</td>\n",
       "      <td>Se arrienda casa bonita totalmente amoblada co...</td>\n",
       "      <td>https://www.metrocuadrado.com/inmueble/arriend...</td>\n",
       "      <td>57.3</td>\n",
       "      <td>all</td>\n",
       "    </tr>\n",
       "    <tr>\n",
       "      <th>2</th>\n",
       "      <td>Casa en Arriendo, VILLA DE LOS ALPES II SECTOR...</td>\n",
       "      <td>$750.000</td>\n",
       "      <td>3</td>\n",
       "      <td>1</td>\n",
       "      <td>90.0 m2</td>\n",
       "      <td>CASA DE TRES NIVELES TRES ALCOBAS SALA COMEDOR...</td>\n",
       "      <td>https://www.metrocuadrado.com/inmueble/arriend...</td>\n",
       "      <td>12.2</td>\n",
       "      <td>all</td>\n",
       "    </tr>\n",
       "    <tr>\n",
       "      <th>3</th>\n",
       "      <td>Casa en Arriendo, PARIS GAITAN Bogotá D.C..</td>\n",
       "      <td>$3.400.000</td>\n",
       "      <td>5</td>\n",
       "      <td>4</td>\n",
       "      <td>71.0 m2</td>\n",
       "      <td>casa ezquinera excelente ubicacion cinco alcob...</td>\n",
       "      <td>https://www.metrocuadrado.com/inmueble/arriend...</td>\n",
       "      <td>56.0</td>\n",
       "      <td>all</td>\n",
       "    </tr>\n",
       "    <tr>\n",
       "      <th>4</th>\n",
       "      <td>Casa en Arriendo, BALCONES DE ORIENTE Bogotá D...</td>\n",
       "      <td>$1.560.000</td>\n",
       "      <td>4</td>\n",
       "      <td>3</td>\n",
       "      <td>96.0 m2</td>\n",
       "      <td>Excelente casa de tres niveles, buena ubicació...</td>\n",
       "      <td>https://www.metrocuadrado.com/inmueble/arriend...</td>\n",
       "      <td>47.1</td>\n",
       "      <td>all</td>\n",
       "    </tr>\n",
       "  </tbody>\n",
       "</table>\n",
       "</div>"
      ],
      "text/plain": [
       "                    property_type|rent_type|location       price n_rooms  \\\n",
       "0    Casa en Arriendo, LA SOLEDAD NORTE Bogotá D.C..  $1.050.000       3   \n",
       "1  Casa en Arriendo, CIUDAD SALITRE SUR-ORIENTAL ...  $3.930.000       3   \n",
       "2  Casa en Arriendo, VILLA DE LOS ALPES II SECTOR...    $750.000       3   \n",
       "3        Casa en Arriendo, PARIS GAITAN Bogotá D.C..  $3.400.000       5   \n",
       "4  Casa en Arriendo, BALCONES DE ORIENTE Bogotá D...  $1.560.000       4   \n",
       "\n",
       "  n_bath   surface                                            details  \\\n",
       "0      2   63.0 m2  Excelente casa cerca de la calle 80 y Avenida ...   \n",
       "1      2  100.0 m2  Se arrienda casa bonita totalmente amoblada co...   \n",
       "2      1   90.0 m2  CASA DE TRES NIVELES TRES ALCOBAS SALA COMEDOR...   \n",
       "3      4   71.0 m2  casa ezquinera excelente ubicacion cinco alcob...   \n",
       "4      3   96.0 m2  Excelente casa de tres niveles, buena ubicació...   \n",
       "\n",
       "                                                 url  metrocuadrado_index  \\\n",
       "0  https://www.metrocuadrado.com/inmueble/arriend...                 25.6   \n",
       "1  https://www.metrocuadrado.com/inmueble/arriend...                 57.3   \n",
       "2  https://www.metrocuadrado.com/inmueble/arriend...                 12.2   \n",
       "3  https://www.metrocuadrado.com/inmueble/arriend...                 56.0   \n",
       "4  https://www.metrocuadrado.com/inmueble/arriend...                 47.1   \n",
       "\n",
       "  Archivo  \n",
       "0     all  \n",
       "1     all  \n",
       "2     all  \n",
       "3     all  \n",
       "4     all  "
      ]
     },
     "execution_count": 4,
     "metadata": {},
     "output_type": "execute_result"
    }
   ],
   "source": [
    "df_s = []\n",
    "for i in range(13,18):\n",
    "    w = \"w\"+str(i)\n",
    "    direccion = 'data/raw/'+w+'/metrocuadrado_all_'+w+'.csv'\n",
    "    df = pd.read_csv(direccion)\n",
    "    df_s.append(df)\n",
    "df_all = pd.concat(df_s,axis=0,ignore_index = True)\n",
    "\n",
    "'''Creamos la variable categorica'''\n",
    "df_all['Archivo'] = 'all'\n",
    "\n",
    "''' Eliminamos los datos duplicados'''\n",
    "df_all.drop_duplicates(inplace=True,ignore_index=True)\n",
    "\n",
    "df_s = []\n",
    "for i in range(13,18):\n",
    "    w = \"w\"+str(i)\n",
    "    direccion = 'data/raw/'+w+'/metrocuadrado_furnished_'+w+'.csv'\n",
    "    df = pd.read_csv(direccion)\n",
    "    df_s.append(df)\n",
    "df_fur = pd.concat(df_s,axis=0,ignore_index = True)\n",
    "df_fur['Archivo'] = 'furnished'\n",
    "df_fur.drop_duplicates(inplace=True,ignore_index=True)\n",
    "\n",
    "df = pd.concat([df_all,df_fur],axis=0,ignore_index = True)\n",
    "df.head()"
   ]
  },
  {
   "cell_type": "markdown",
   "metadata": {},
   "source": [
    "2. Limpie las columnas:\n",
    "    1. Precio y de área del inmueble, número de habitaciones y número de baños.\n",
    "    2. De `'property type|rent type|location'`. Debe obtener 3 columnas en las que se detalle el tipo de inmueble (casa o apartamento), el tipo de la oferta (arriendo o arriendo y venta) además de el barrio en el cual se ubica el inmueble (texto en mayúsculas para la mayoría de los casos) Llame a esta última columna `'location'`.\\\n",
    "    __Hint:__ Para ello pueden ser útiles los métodos `str.split` y `str.strip` de la clase `pd.Series`."
   ]
  },
  {
   "cell_type": "code",
   "execution_count": 5,
   "metadata": {},
   "outputs": [
    {
     "data": {
      "text/plain": [
       "property_type|rent_type|location     object\n",
       "price                               float64\n",
       "n_rooms                              object\n",
       "n_bath                               object\n",
       "surface                             float64\n",
       "details                              object\n",
       "url                                  object\n",
       "metrocuadrado_index                 float64\n",
       "Archivo                              object\n",
       "dtype: object"
      ]
     },
     "execution_count": 5,
     "metadata": {},
     "output_type": "execute_result"
    }
   ],
   "source": [
    "df = df.dropna(axis = 0,subset=['price','n_rooms','n_bath','surface'])\n",
    "df.reset_index(drop=True,inplace=True)\n",
    "\n",
    "df['price'] = [x.replace('$','') for x in df['price']]\n",
    "df['price'] = [x.replace('.','') for x in df['price']]\n",
    "df['price'] = df['price'].astype('float64')\n",
    "df['surface'] = [x.replace(' m2','') for x in df['surface']]\n",
    "df['surface'] = df['surface'].astype('float64')\n",
    "\n",
    "df.dtypes"
   ]
  },
  {
   "cell_type": "code",
   "execution_count": 6,
   "metadata": {},
   "outputs": [],
   "source": [
    "columna = 'property_type|rent_type|location'\n",
    "first_col = df[columna]\n",
    "first_col = pd.Series([x.replace(' ',', ', 1) for x in first_col])\n",
    "first_col = first_col.str.split(pat=',',expand =True)\n",
    "first_col.columns = columna.split('|')\n",
    "first_col['rent_type'] =  [x.replace('en ','') for x in first_col['rent_type']]\n",
    "df = pd.concat([first_col,df.iloc[:,1:]],axis=1)"
   ]
  },
  {
   "cell_type": "markdown",
   "metadata": {},
   "source": [
    "3. Adjunte las siguientes columnas:\n",
    "    1. Genere una variable que represente el precio por metro cuadrado.\n",
    "    2. Obtenga el número de garajes procesando la columna `'url'` ."
   ]
  },
  {
   "cell_type": "code",
   "execution_count": 7,
   "metadata": {},
   "outputs": [],
   "source": [
    "df['Precio_m2'] = df['price']/df['surface']"
   ]
  },
  {
   "cell_type": "code",
   "execution_count": 15,
   "metadata": {},
   "outputs": [],
   "source": [
    "lista = []\n",
    "for x in df['url']:\n",
    "    if '-garajes' not in x:\n",
    "        lista.append('0')\n",
    "    else:\n",
    "        lista.append(x[x.find('banos-')+6:x.find('-garajes')])\n",
    "df['Numero_Garajes'] = lista"
   ]
  },
  {
   "cell_type": "markdown",
   "metadata": {},
   "source": [
    "4. Clasifique las observaciones por tipo de producto de acuerdo a los criterios de la Tabla\n",
    "    1. Hint: puede ser útil el método `query` de `pd.DataFrame`\n",
    "\n",
    "|Tipo de Producto| Tipo de Inmueble| área min | área max |\n",
    "|----------------|-----------------|----------|----------|\n",
    "|        1       |       casa      | 80       |    <120  |\n",
    "|        2       |       casa      | 120      |    <180  |\n",
    "|        3       |       casa      | 180      |    <240  |\n",
    "|        4       |       casa      | 240      |    <360  |\n",
    "|        5       |       casa      | 360      |    460   |\n",
    "|        6       |   apartamento   | 40       |    <60   |\n",
    "|        7       |   apartamento   | 60       |    <80   |\n",
    "|        8       |   apartamento   | 80       |    120   |"
   ]
  },
  {
   "cell_type": "code",
   "execution_count": 19,
   "metadata": {},
   "outputs": [],
   "source": [
    "condiciones = ['80<=surface<120 and property_type==\"Casa\"','120<=surface<180 and property_type==\"Casa\"',\n",
    "              '180<=surface<240 and property_type==\"Casa\"','240<=surface<360 and property_type==\"Casa\"',\n",
    "              '360<=surface<=460 and property_type==\"Casa\"','40<=surface<60 and property_type==\"Apartamento\"',\n",
    "              '60<=surface<80 and property_type==\"Apartamento\"','80<=surface<=120 and property_type==\"Apartamento\"']\n",
    "df['tipo_producto'] = np.zeros(len(df))\n",
    "for i in range(1,9):\n",
    "    ind = df.query(condiciones[i-1]).index\n",
    "    df.loc[ind,'tipo_producto']=i"
   ]
  },
  {
   "cell_type": "markdown",
   "metadata": {},
   "source": [
    "5. A partir de la columna `'barrio'`, haga una fusión con el archivo `data/assignacion upz/barrio-upz-asignacion.csv` para obtener así el código de la UPZ de cada inmueble. Reporte el numero de observaciones y de barrios a los que no se les puede adjuntar un código UPZ a partir de este archivo. Tenga en cuenta que aproximadamente 90% de los datos tiene información sobre UPZ."
   ]
  },
  {
   "cell_type": "code",
   "execution_count": 10,
   "metadata": {},
   "outputs": [
    {
     "data": {
      "text/html": [
       "<div>\n",
       "<style scoped>\n",
       "    .dataframe tbody tr th:only-of-type {\n",
       "        vertical-align: middle;\n",
       "    }\n",
       "\n",
       "    .dataframe tbody tr th {\n",
       "        vertical-align: top;\n",
       "    }\n",
       "\n",
       "    .dataframe thead th {\n",
       "        text-align: right;\n",
       "    }\n",
       "</style>\n",
       "<table border=\"1\" class=\"dataframe\">\n",
       "  <thead>\n",
       "    <tr style=\"text-align: right;\">\n",
       "      <th></th>\n",
       "      <th>UPlCodigo</th>\n",
       "      <th>UPlTipo</th>\n",
       "      <th>UPlNombre</th>\n",
       "      <th>UPlArea</th>\n",
       "      <th>pro_location</th>\n",
       "    </tr>\n",
       "  </thead>\n",
       "  <tbody>\n",
       "    <tr>\n",
       "      <th>0</th>\n",
       "      <td>UPZ100</td>\n",
       "      <td>1</td>\n",
       "      <td>GALERIAS</td>\n",
       "      <td>2.375681e+06</td>\n",
       "      <td>palermo</td>\n",
       "    </tr>\n",
       "    <tr>\n",
       "      <th>1</th>\n",
       "      <td>UPZ100</td>\n",
       "      <td>1</td>\n",
       "      <td>GALERIAS</td>\n",
       "      <td>2.375681e+06</td>\n",
       "      <td>belalcazar</td>\n",
       "    </tr>\n",
       "    <tr>\n",
       "      <th>2</th>\n",
       "      <td>UPZ100</td>\n",
       "      <td>1</td>\n",
       "      <td>GALERIAS</td>\n",
       "      <td>2.375681e+06</td>\n",
       "      <td>sears</td>\n",
       "    </tr>\n",
       "    <tr>\n",
       "      <th>3</th>\n",
       "      <td>UPZ100</td>\n",
       "      <td>1</td>\n",
       "      <td>GALERIAS</td>\n",
       "      <td>2.375681e+06</td>\n",
       "      <td>galerias</td>\n",
       "    </tr>\n",
       "    <tr>\n",
       "      <th>4</th>\n",
       "      <td>UPZ100</td>\n",
       "      <td>1</td>\n",
       "      <td>GALERIAS</td>\n",
       "      <td>2.375681e+06</td>\n",
       "      <td>banco central</td>\n",
       "    </tr>\n",
       "    <tr>\n",
       "      <th>...</th>\n",
       "      <td>...</td>\n",
       "      <td>...</td>\n",
       "      <td>...</td>\n",
       "      <td>...</td>\n",
       "      <td>...</td>\n",
       "    </tr>\n",
       "    <tr>\n",
       "      <th>463</th>\n",
       "      <td>UPZ42</td>\n",
       "      <td>1</td>\n",
       "      <td>VENECIA</td>\n",
       "      <td>6.638420e+06</td>\n",
       "      <td>nuevo muzu</td>\n",
       "    </tr>\n",
       "    <tr>\n",
       "      <th>464</th>\n",
       "      <td>UPZ42</td>\n",
       "      <td>1</td>\n",
       "      <td>VENECIA</td>\n",
       "      <td>6.638420e+06</td>\n",
       "      <td>el condor</td>\n",
       "    </tr>\n",
       "    <tr>\n",
       "      <th>465</th>\n",
       "      <td>UPZ42</td>\n",
       "      <td>1</td>\n",
       "      <td>VENECIA</td>\n",
       "      <td>6.638420e+06</td>\n",
       "      <td>laguneta</td>\n",
       "    </tr>\n",
       "    <tr>\n",
       "      <th>466</th>\n",
       "      <td>UPZ52</td>\n",
       "      <td>1</td>\n",
       "      <td>LA FLORA</td>\n",
       "      <td>1.877160e+06</td>\n",
       "      <td>villa maria</td>\n",
       "    </tr>\n",
       "    <tr>\n",
       "      <th>467</th>\n",
       "      <td>UPZ60</td>\n",
       "      <td>1</td>\n",
       "      <td>PARQUE ENTRENUBES</td>\n",
       "      <td>4.190395e+06</td>\n",
       "      <td>NaN</td>\n",
       "    </tr>\n",
       "  </tbody>\n",
       "</table>\n",
       "<p>468 rows × 5 columns</p>\n",
       "</div>"
      ],
      "text/plain": [
       "    UPlCodigo  UPlTipo          UPlNombre       UPlArea   pro_location\n",
       "0      UPZ100        1           GALERIAS  2.375681e+06        palermo\n",
       "1      UPZ100        1           GALERIAS  2.375681e+06     belalcazar\n",
       "2      UPZ100        1           GALERIAS  2.375681e+06          sears\n",
       "3      UPZ100        1           GALERIAS  2.375681e+06       galerias\n",
       "4      UPZ100        1           GALERIAS  2.375681e+06  banco central\n",
       "..        ...      ...                ...           ...            ...\n",
       "463     UPZ42        1            VENECIA  6.638420e+06     nuevo muzu\n",
       "464     UPZ42        1            VENECIA  6.638420e+06      el condor\n",
       "465     UPZ42        1            VENECIA  6.638420e+06       laguneta\n",
       "466     UPZ52        1           LA FLORA  1.877160e+06    villa maria\n",
       "467     UPZ60        1  PARQUE ENTRENUBES  4.190395e+06            NaN\n",
       "\n",
       "[468 rows x 5 columns]"
      ]
     },
     "execution_count": 10,
     "metadata": {},
     "output_type": "execute_result"
    }
   ],
   "source": [
    "barrio_upz =pd.read_csv('data/asignacion_upz/barrio-upz.csv')\n",
    "barrio_upz"
   ]
  },
  {
   "cell_type": "markdown",
   "metadata": {},
   "source": [
    "6. En la carpeta `data/estadisticas_upz` encontraría todos los archivos que debe fusionar con su `DataFrame`, a través del código de UPZ, para así enriquecer su conjunto de datos con estadísticas de población, socioeconómicas y de calidad de vida a nivel de UPZ. Una vez realizada la fusión, adjunte una nueva columna con la densidad de población por UPZ."
   ]
  },
  {
   "cell_type": "code",
   "execution_count": null,
   "metadata": {},
   "outputs": [],
   "source": []
  },
  {
   "cell_type": "markdown",
   "metadata": {},
   "source": [
    "## P2. EDA\n",
    "En la siguiente pregunta utilice el `DataFrame` obtenido a partir de los procedimientos anteriores. La idea central del presente ejercicio es analizar la base de datos que fue construida realizando un análisis exploratorio de datos (EDA) riguroso que permite obtener información útil para la parte final de tarea. Para cada pregunta y considerando que la variable de respuesta es el precio por metro cuadrado, discuta sus resultados y reporte algunos gráficos interesantes en su informe."
   ]
  },
  {
   "cell_type": "markdown",
   "metadata": {},
   "source": [
    "1. Programe una función `estilo()` que aplica un estilo de gráficos por defecto diseñado por usted. Este estilo debe ser empleado en todos los gráficos que incluya en su informe.\\\n",
    "__Hint:__ Use métodos de la librería `seaborn` para ello."
   ]
  },
  {
   "cell_type": "code",
   "execution_count": null,
   "metadata": {},
   "outputs": [],
   "source": []
  },
  {
   "cell_type": "markdown",
   "metadata": {},
   "source": [
    "2. Perfile las variables obtenidas en su `DataFrame`, agrúpelas y analícelas según su naturaleza. En función de su agrupación, grafíque las distribuciones dando un tratamiento adecuado a cada tipo de variable, discuta ciertos casos de interés."
   ]
  },
  {
   "cell_type": "code",
   "execution_count": null,
   "metadata": {},
   "outputs": [],
   "source": []
  },
  {
   "cell_type": "markdown",
   "metadata": {},
   "source": [
    "3. Estudie la presencia de datos faltantes en la base de datos. Observe como se distribuyen estos y establezca un mecanismo de pérdida de información basándose en los patrones observables del conjunto de datos. Busque agrupaciones de columnas que muestren un comportamiento sistemático y plantee sus reflexiones.\\\n",
    "Respalde con visualizaciones y cuantifique estadísticamente los patrones observados."
   ]
  },
  {
   "cell_type": "code",
   "execution_count": null,
   "metadata": {},
   "outputs": [],
   "source": []
  },
  {
   "cell_type": "markdown",
   "metadata": {},
   "source": [
    "4. Recategoríce la variable código de UPZ de forma que quede distribuida entre 3 a 5 grupos, evalúe la significancia estadística de esta nueva agrupación en comparación a la variable de respuesta. Comente sus resultados e interprételos.\\\n",
    "__Hint:__ Puede probar con técnicas de clustering (como k-means) sobre una agrupación de UPZ y validar estadísticamente si las nuevas categorías afectan la variable de respuesta."
   ]
  },
  {
   "cell_type": "code",
   "execution_count": null,
   "metadata": {},
   "outputs": [],
   "source": []
  },
  {
   "cell_type": "markdown",
   "metadata": {},
   "source": [
    "5. Cuantifique estadísticamente las relaciones entre una selección de al menos 10 variables de interés y la columna de respuesta, examine también las relaciones entre las variables de su selección. Utilice las herramientas de análisis estadístico que considere pertinentes, comente brevemente sus hallazgos."
   ]
  },
  {
   "cell_type": "code",
   "execution_count": null,
   "metadata": {},
   "outputs": [],
   "source": []
  },
  {
   "cell_type": "markdown",
   "metadata": {},
   "source": [
    "6. En base a las herramientas del curso realice un análisis que permita detectar observaciones anómalas en la base de datos, justifique sus resultados, evalúe como se distribuyen los valores anómalos respecto a las variables UPZ y tipo de producto."
   ]
  },
  {
   "cell_type": "code",
   "execution_count": null,
   "metadata": {},
   "outputs": [],
   "source": []
  },
  {
   "cell_type": "markdown",
   "metadata": {},
   "source": [
    "7. En función del análisis realizado a lo largo de esta pregunta, proponga una selección de variables que permita estimar la variable respuesta por medio de un modelo de regresión, discuta."
   ]
  },
  {
   "cell_type": "code",
   "execution_count": null,
   "metadata": {},
   "outputs": [],
   "source": []
  },
  {
   "cell_type": "markdown",
   "metadata": {},
   "source": [
    "## P3. Regresión lineal bayesiana\n",
    "Una vez analizado el conjunto de datos, se procede a modelar las relaciones por medio de alguna herramienta matemática. En este contexto y con las herramientas computacionales entregadas por el curso, se desarrolla un modelo de regresión lineal bayesiana, tratando el problema de modelación desde el punto vista teórico hasta su implementación e interpretación de resultados."
   ]
  },
  {
   "cell_type": "markdown",
   "metadata": {},
   "source": [
    "#### Implementación\n",
    "1. Implemente la clase `RegresionBayesianaEmpirica` que herede de `BaseEstimator` y de `RegressorMixin` del módulo `sklearn.base` en la cual se implementa la heurística enunciada en la sección anterior para aproximar los hiperparámetros óptimos $\\alpha$ y $\\beta$. Esta clase sólo debe usar objetos de la librería `NumPy` y debe incluir al menos los siguientes métodos:\n",
    "    * `__init__(self, alpha 0, beta 0, tol=1e-5, maxiter=200)`: sus argumentos son auto explicativos.\n",
    "    * `get_posteriori(self, X, y, alpha, beta)`: que reciba la matriz de observaciones (`X`), el vector de etiquetas (`y`) y los hiperparámetros $\\alpha$ y $\\beta$. Este debe retornar los objetos necesarios para interactuar con los demás métodos.\n",
    "    * `fit(self, X, y)`: que reciba la matriz de observaciones (`X`), el vector de etiquetas (`y`) e implemente el esquema de aproximación mencionado. Este método debe guardar como atributos del objeto los parámetros óptimos obtenidos, además de reportar en pantalla indicadores del proceso iterativo (incluya al menos el número de iteraciones).\n",
    "    * `predict(self, X , return std=False)`: que reciba una matriz de observaciones (`X_`). Debe retornar la tupla (`y_` , `y_std`) con el vector de medias y el de desviaciones estándar (cuando `return std=True`) asociadas a las observaciones en `X`. Para esto, observe que el proceso de predicción corresponde a asignar la media posterior predictiva del modelo a nuevos puntos.\n",
    "    \n",
    "   Note que todo desarrollo sólo necesita de un modelo lineal en los parámetros $w$. Es decir, es posible reemplazar $X$ por una transformación (posiblemente no lineal) $\\Phi(X)$, manteniendo la misma estructura distrubucional tanto en predicción como en obtención de hiperparámetros."
   ]
  },
  {
   "cell_type": "code",
   "execution_count": null,
   "metadata": {},
   "outputs": [],
   "source": []
  },
  {
   "cell_type": "markdown",
   "metadata": {},
   "source": [
    "En las siguientes preguntas se construye un modelo de regresi\u0013on en el cual debe incluir todas las variables disponibles en el conjunto de datos, reemplazando la variable de UPZ por la recategorizaci\u0013on antes propuesta."
   ]
  },
  {
   "cell_type": "markdown",
   "metadata": {},
   "source": [
    "2. Construya un fujo de transformaciones sobre el conjunto datos. Por medio de la clase `Pipeline` debería:\n",
    "    * Utilizar `StandardScaler` y `OneHotEncoder` donde corresponda.\n",
    "    * Utilizar el objeto `PolynomialFeatures` para generar características polinomiales, en este apartado, se recomienda utilizar características de grado 3 sólo en las variables numéricas y luego concatenar con las codificaciones categóricas.\n",
    "    * Generar una composición de transformaciones por medio de `ColumnTransformer`."
   ]
  },
  {
   "cell_type": "code",
   "execution_count": null,
   "metadata": {},
   "outputs": [],
   "source": []
  },
  {
   "cell_type": "markdown",
   "metadata": {},
   "source": [
    "3. Expanda el `Pipeline` anterior agregando el modelo representado en la clase `RegresionBayesianaEmpirica`. Genere una separación de entrenamiento y test por medio de `train_test_split` del módulo `model_selection` donde el 20% de los datos sea de test. Entrene su modelo utilizando el método .fit como parámetros dentro del flujo creado por medio de Pipeline, evalúe su modelo por medio de la raíz del promedio de errores cuadráticos (_Root Mean Square Error - RMSE_. en inglés) en el conjunto de test, incluya el estadístico $R^2$.\\\n",
    "__Hint__: pruebe con valores para `alpha_0` y `beta_0` entre $10^{-10}$ y $10^{-5}$. Compruebe que dichos dichos hiperparametros son adecuados, al obtener un $R^2$ cercano a $0.7$."
   ]
  },
  {
   "cell_type": "code",
   "execution_count": null,
   "metadata": {},
   "outputs": [],
   "source": []
  },
  {
   "cell_type": "markdown",
   "metadata": {},
   "source": [
    "4. Utilice su selección de variables, transfórmelas adaptando el esquema de preprocesamiento anterior, separe en conjuntos de entrenamiento y test manteniendo el 20% de proporción y evalúe los resultados del modelo `RegresionBayesianaEmpirica` incluyendo el estadístico $R^2$. Discuta."
   ]
  },
  {
   "cell_type": "code",
   "execution_count": null,
   "metadata": {},
   "outputs": [],
   "source": []
  },
  {
   "cell_type": "markdown",
   "metadata": {},
   "source": [
    "5. Finalmente, compare los resultados de su selección de variables con los obtenidos por un pipeline donde el estimador sea uno de la clase `BayesianRidge` del módulo `sklearn.linear_model`. Discuta la diferencia de este módulo con respecto al desarrollado por ustedes."
   ]
  },
  {
   "cell_type": "code",
   "execution_count": null,
   "metadata": {},
   "outputs": [],
   "source": []
  }
 ],
 "metadata": {
  "kernelspec": {
   "display_name": "Python 3",
   "language": "python",
   "name": "python3"
  },
  "language_info": {
   "codemirror_mode": {
    "name": "ipython",
    "version": 3
   },
   "file_extension": ".py",
   "mimetype": "text/x-python",
   "name": "python",
   "nbconvert_exporter": "python",
   "pygments_lexer": "ipython3",
   "version": "3.7.6"
  }
 },
 "nbformat": 4,
 "nbformat_minor": 2
}
